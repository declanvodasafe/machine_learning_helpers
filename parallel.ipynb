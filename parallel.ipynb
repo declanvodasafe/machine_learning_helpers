{
 "cells": [
  {
   "cell_type": "code",
   "execution_count": 5,
   "metadata": {},
   "outputs": [],
   "source": [
    "from joblib import Memory\n",
    "from dask.distributed import Client, LocalCluster, wait, as_completed\n",
    "import time\n",
    "from tqdm import tqdm_notebook as tqdm"
   ]
  },
  {
   "cell_type": "markdown",
   "metadata": {},
   "source": [
    "### Parallel Helper"
   ]
  },
  {
   "cell_type": "code",
   "execution_count": 1,
   "metadata": {},
   "outputs": [],
   "source": [
    "# We wrap the clients in a class to prevent\n",
    "# double init\n",
    "class MyClient:\n",
    "    mp = None\n",
    "    mt = None\n",
    "    modules = None \n",
    "    started = False\n",
    "\n",
    "    # Stats\n",
    "    p_workers = None \n",
    "    p_cores   = None \n",
    "    p_workers = None \n",
    "    p_cores   = None \n",
    "    \n",
    "    @staticmethod\n",
    "    def restart():\n",
    "        MyClient.mp.restart()\n",
    "        MyClient.mt.restart()\n",
    "    \n",
    "    @staticmethod\n",
    "    def init():\n",
    "        if MyClient.started is False:\n",
    "            # Start process cluster\n",
    "            print(\"Starting multiprocess cluster...\")\n",
    "            MyClient.mp = Client(scheduler_port=0, dashboard_address=None)\n",
    "            MyClient.p_workers = len(MyClient.mp.cluster.workers)\n",
    "            MyClient.p_cores = MyClient.mp.cluster.worker_kwargs['ncores']\n",
    "            print(\"Multiprocess cluster started w/ {} workers ({} cores each)\".format(MyClient.p_workers, MyClient.p_cores))\n",
    "            \n",
    "            # Start thread cluster\n",
    "            print(\"Starting multithread cluster...\")\n",
    "            MyClient.mt = Client(scheduler_port=0, dashboard_address=None, processes=False)\n",
    "            MyClient.t_workers = len(MyClient.mt.cluster.workers)\n",
    "            MyClient.t_cores = MyClient.mt.cluster.worker_kwargs['ncores']\n",
    "            print(\"Multithread cluster started w/ {} workers ({} cores each)\".format(MyClient.t_workers, MyClient.t_cores))\n",
    "            \n",
    "            # Toggle             \n",
    "            MyClient.started = True\n",
    "        else:\n",
    "            print(\"Multithread cluster already started\")\n",
    "\n",
    "def init_parallel(module_names=None):\n",
    "    MyClient.init()    \n",
    "    if module_names is not None:\n",
    "        for name in module_names:\n",
    "            MyClient.mp.upload_file(name)\n",
    "            MyClient.mt.upload_file(name)\n",
    "    print(\n",
    "        \"\"\"\n",
    "        Parallel Plugin Loaded. You can now decorate functions with @profile(profile_array) \n",
    "        and @parallel(map=True, threads=True, background=False). MyClient and get_results(futures)\n",
    "        have also been loaded into your namespace.\n",
    "        \"\"\")\n",
    "    \n",
    "def parallel(map=False, threads=False, background=True):\n",
    "    def concurrent_decorator(func):\n",
    "        def wrapper_concurrent(*args, **kwargs):\n",
    "            client = MyClient.mt if threads else MyClient.mp\n",
    "            if map:\n",
    "                res = client.map(func, *args, **kwargs)\n",
    "            else:\n",
    "                res = client.submit(func, *args, **kwargs)\n",
    "            if background:\n",
    "                return res\n",
    "            else:\n",
    "                return [r for f, r in tqdm(as_completed(res, with_results=True), total=len(res))]\n",
    "        return wrapper_concurrent\n",
    "    return concurrent_decorator\n",
    "\n",
    "def get_results(futures):\n",
    "    return [f.result() for f in as_completed(futures)]"
   ]
  }
 ],
 "metadata": {
  "hide_code_all_hidden": false,
  "kernelspec": {
   "display_name": "Python 3",
   "language": "python",
   "name": "python3"
  },
  "language_info": {
   "codemirror_mode": {
    "name": "ipython",
    "version": 3
   },
   "file_extension": ".py",
   "mimetype": "text/x-python",
   "name": "python",
   "nbconvert_exporter": "python",
   "pygments_lexer": "ipython3",
   "version": "3.7.3"
  }
 },
 "nbformat": 4,
 "nbformat_minor": 2
}
