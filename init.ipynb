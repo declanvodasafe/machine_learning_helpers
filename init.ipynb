{
 "cells": [
  {
   "cell_type": "code",
   "execution_count": 3,
   "metadata": {},
   "outputs": [],
   "source": [
    "%matplotlib inline"
   ]
  },
  {
   "cell_type": "code",
   "execution_count": 2,
   "metadata": {},
   "outputs": [
    {
     "name": "stderr",
     "output_type": "stream",
     "text": [
      "/ubc/cs/research/fwood/vadmas/miniconda3/envs/ml3/lib/python3.7/site-packages/ipykernel_launcher.py:14: DeprecationWarning: `set_matplotlib_formats` is deprecated since IPython 7.23, directly use `matplotlib_inline.backend_inline.set_matplotlib_formats()`\n",
      "  \n"
     ]
    }
   ],
   "source": [
    "from IPython import get_ipython\n",
    "import numpy as np\n",
    "import matplotlib\n",
    "from matplotlib import pyplot as plt\n",
    "from pathlib import Path\n",
    "import pandas as pd\n",
    "import janitor\n",
    "import seaborn as sns\n",
    "import flavor\n",
    "from tqdm.auto import tqdm\n",
    "from IPython.display import display, HTML\n",
    "from matplotlib_inline.backend_inline import set_matplotlib_formats\n",
    "import multiprocessing\n",
    "set_matplotlib_formats('retina')\n",
    "# matplotlib.use('TkAgg')\n",
    "pd.set_option('mode.chained_assignment', None)\n",
    "idx = pd.IndexSlice"
   ]
  },
  {
   "cell_type": "code",
   "execution_count": null,
   "metadata": {},
   "outputs": [],
   "source": [
    "# For long running cell\n",
    "def run_async(func):\n",
    "    def wrapper():\n",
    "        multiprocessing.Process(target=func).start()\n",
    "    return wrapper"
   ]
  }
 ],
 "metadata": {
  "file_extension": ".py",
  "kernelspec": {
   "display_name": "Python 3",
   "language": "python",
   "name": "python3"
  },
  "language_info": {
   "codemirror_mode": {
    "name": "ipython",
    "version": 3
   },
   "file_extension": ".py",
   "mimetype": "text/x-python",
   "name": "python",
   "nbconvert_exporter": "python",
   "pygments_lexer": "ipython3",
   "version": "3.7.6"
  },
  "mimetype": "text/x-python",
  "name": "python",
  "npconvert_exporter": "python",
  "pygments_lexer": "ipython3",
  "version": 3
 },
 "nbformat": 4,
 "nbformat_minor": 2
}
