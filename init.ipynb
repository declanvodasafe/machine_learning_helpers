{
 "cells": [
  {
   "cell_type": "code",
   "execution_count": 1,
   "metadata": {},
   "outputs": [],
   "source": [
    "from IPython import get_ipython"
   ]
  },
  {
   "cell_type": "code",
   "execution_count": 2,
   "metadata": {},
   "outputs": [],
   "source": [
    "get_ipython().run_line_magic('matplotlib', 'inline')"
   ]
  },
  {
   "cell_type": "code",
   "execution_count": 3,
   "metadata": {},
   "outputs": [],
   "source": [
    "import numpy as np\n",
    "import matplotlib\n",
    "from matplotlib import pylab, mlab, pyplot\n",
    "from joblib import Parallel, delayed\n",
    "from pathlib import Path\n",
    "plt = pyplot"
   ]
  },
  {
   "cell_type": "code",
   "execution_count": 1,
   "metadata": {},
   "outputs": [],
   "source": [
    "import math\n",
    "import numpy.random as npr\n",
    "import pandas as pd\n",
    "import janitor\n",
    "import seaborn as sns\n",
    "from IPython.display import display, HTML\n",
    "from IPython.display import set_matplotlib_formats\n",
    "set_matplotlib_formats('retina')\n",
    "pd.set_option('display.max_columns', None)\n",
    "\n",
    "from datetime import datetime\n",
    "from decimal import Decimal\n",
    "\n",
    "# # Set default matplotlib settings\n",
    "# plt.rcParams['figure.figsize'] = (10, 7)\n",
    "# plt.rcParams['lines.linewidth'] = 3\n",
    "# plt.rcParams['figure.titlesize'] = 26\n",
    "# plt.rcParams['axes.labelsize'] = 18\n",
    "# plt.rcParams['axes.titlesize'] = 22\n",
    "# plt.rcParams['xtick.labelsize'] = 14\n",
    "# plt.rcParams['ytick.labelsize'] = 14\n",
    "# plt.rcParams['legend.fontsize'] = 16\n",
    "\n",
    "# # Set seaborn style\n",
    "# sns.set_style('white')\n",
    "# sns.set_palette('colorblind')\n",
    "# sns.set_context(\"paper\", rc={\"lines.linewidth\": 1.5}, font_scale=1.5)\n",
    "# blue, orange, green, red, purple, brown, pink, grey, yellow, cyan = sns.color_palette('colorblind')\n",
    "# black = (0, 0, 0)\n",
    "# white = (1, 1, 1)\n",
    "\n",
    "idx = pd.IndexSlice"
   ]
  },
  {
   "cell_type": "code",
   "execution_count": 5,
   "metadata": {},
   "outputs": [],
   "source": [
    "persist_dir = Path('./.persistdir')\n",
    "\n",
    "def pmap(f, arr, n_jobs=-1, prefer='threads', verbose=10):\n",
    "    return Parallel(n_jobs=n_jobs, prefer=prefer, verbose=verbose)(delayed(f)(i) for i in arr)\n",
    "\n",
    "def put(value, filename):\n",
    "    persist_dir.mkdir(exist_ok=True)\n",
    "    filename = persist_dir / filename\n",
    "    print(\"Saving to \", filename)\n",
    "    joblib.dump(value, filename) \n",
    "    \n",
    "def get(filename):\n",
    "    filename = persist_dir / filename\n",
    "    assert filename.exists(), \"{} doesn't exist\".format(filename)\n",
    "    print(\"Saving to \", filename)\n",
    "    return joblib.load(filename)"
   ]
  },
  {
   "cell_type": "code",
   "execution_count": 6,
   "metadata": {},
   "outputs": [
    {
     "name": "stdout",
     "output_type": "stream",
     "text": [
      "IndexSlice (idx) loaded into namespace\n",
      "\n",
      "Available functions\n",
      "-------------------------------------------------------------\n",
      "pmap(f, arr, n_jobs=-1, prefer='threads', verbose=10) loaded into namespace\n",
      "put(value, filename) loaded into namespace\n",
      "get(filename) loaded into namespace\n",
      "-------------------------------------------------------------\n"
     ]
    }
   ],
   "source": [
    "print(\"IndexSlice (idx) loaded into namespace\")\n",
    "print(\"\")\n",
    "print(\"Available functions\")\n",
    "print(\"-------------------------------------------------------------\")\n",
    "print(\"pmap(f, arr, n_jobs=-1, prefer='threads', verbose=10) loaded into namespace\")\n",
    "print(\"put(value, filename) loaded into namespace\")\n",
    "print(\"get(filename) loaded into namespace\")\n",
    "print(\"-------------------------------------------------------------\")\n",
    "\n"
   ]
  }
 ],
 "metadata": {
  "file_extension": ".py",
  "kernelspec": {
   "display_name": "Python 3",
   "language": "python",
   "name": "python3"
  },
  "language_info": {
   "codemirror_mode": {
    "name": "ipython",
    "version": 3
   },
   "file_extension": ".py",
   "mimetype": "text/x-python",
   "name": "python",
   "nbconvert_exporter": "python",
   "pygments_lexer": "ipython3",
   "version": "3.7.3"
  },
  "mimetype": "text/x-python",
  "name": "python",
  "npconvert_exporter": "python",
  "pygments_lexer": "ipython3",
  "version": 3
 },
 "nbformat": 4,
 "nbformat_minor": 2
}
